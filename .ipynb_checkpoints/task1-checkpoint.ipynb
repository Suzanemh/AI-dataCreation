{
 "cells": [
  {
   "cell_type": "code",
   "execution_count": null,
   "metadata": {},
   "outputs": [],
   "source": [
    "#adding modules\n",
    "from faker import Faker\n",
    "import pandas as pd\n",
    "#from laundromat.spacy.spacy_model import SpacyModel\n",
    "from faker.providers.credit_card import Provider as CreditCardProvider #Add creditcards to faker"
   ]
  }
 ],
 "metadata": {
  "kernelspec": {
   "display_name": "dave3625",
   "language": "python",
   "name": "python3"
  },
  "language_info": {
   "name": "python",
   "version": "3.8.17"
  },
  "orig_nbformat": 4
 },
 "nbformat": 4,
 "nbformat_minor": 2
}
