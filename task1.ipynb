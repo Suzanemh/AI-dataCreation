{
 "cells": [
  {
   "cell_type": "code",
   "execution_count": 28,
   "metadata": {},
   "outputs": [],
   "source": [
    "from faker import Faker\n",
    "import pandas as pd\n",
    "#from laundromat.spacy.spacy_model import SpacyModel\n",
    "from faker.providers.credit_card import Provider as CreditCardProvider #Add creditcards to faker"
   ]
  },
  {
   "cell_type": "markdown",
   "metadata": {},
   "source": [
    "#Task1"
   ]
  },
  {
   "cell_type": "code",
   "execution_count": 29,
   "metadata": {},
   "outputs": [
    {
     "data": {
      "text/plain": [
       "('Elise Berntsen',\n",
       " 'Edvardsenflata 5, 5134 Haugen',\n",
       " '28079816576',\n",
       " '4691886810102',\n",
       " '157.73.40.221')"
      ]
     },
     "execution_count": 29,
     "metadata": {},
     "output_type": "execute_result"
    }
   ],
   "source": [
    "#creating a dataframe with 100 Fakers\n",
    "fake = Faker(['no_NO']) #Create a faker with norwegian Names and structures\n",
    "\n",
    "#Faker calls you will need:\n",
    "fake.name(),fake.address(),fake.ssn(),fake.credit_card_number(),fake.ipv4()\n",
    "\n",
    "\n"
   ]
  },
  {
   "cell_type": "code",
   "execution_count": 30,
   "metadata": {},
   "outputs": [],
   "source": [
    "#define columns\n",
    "columns = ['Name', 'Address', 'SSN', 'CreditCardNumber', 'IPv4']"
   ]
  },
  {
   "cell_type": "code",
   "execution_count": 31,
   "metadata": {},
   "outputs": [],
   "source": [
    "#define df and add data to the columns\n",
    "df = pd.DataFrame(columns=columns)\n"
   ]
  },
  {
   "cell_type": "code",
   "execution_count": 32,
   "metadata": {},
   "outputs": [],
   "source": [
    "#Use a loop to make 100 Fake data\n",
    "for i in range(100):\n",
    "    row = fake.name(), fake.address(), fake.ssn(), fake.credit_card_number(), fake.ipv4()\n",
    "    df.loc[i] = row\n",
    "\n",
    "    df.head()\n",
    "    "
   ]
  }
 ],
 "metadata": {
  "kernelspec": {
   "display_name": "dave3625",
   "language": "python",
   "name": "python3"
  },
  "language_info": {
   "codemirror_mode": {
    "name": "ipython",
    "version": 3
   },
   "file_extension": ".py",
   "mimetype": "text/x-python",
   "name": "python",
   "nbconvert_exporter": "python",
   "pygments_lexer": "ipython3",
   "version": "3.8.17"
  },
  "orig_nbformat": 4
 },
 "nbformat": 4,
 "nbformat_minor": 2
}
