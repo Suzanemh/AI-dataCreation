{
 "cells": [
  {
   "cell_type": "code",
   "execution_count": 44,
   "metadata": {},
   "outputs": [],
   "source": [
    "from faker import Faker\n",
    "import pandas as pd\n",
    "#from laundromat.spacy.spacy_model import SpacyModel\n",
    "from faker.providers.credit_card import Provider as CreditCardProvider #Add creditcards to faker"
   ]
  },
  {
   "cell_type": "markdown",
   "metadata": {},
   "source": [
    "#Task1"
   ]
  },
  {
   "cell_type": "code",
   "execution_count": 45,
   "metadata": {},
   "outputs": [
    {
     "data": {
      "text/plain": [
       "('Rolf Jenssen-Antonsen',\n",
       " 'Svendsenalléen 36, 4433 Pålhavn',\n",
       " '29079348277',\n",
       " '6011896189048718',\n",
       " '218.168.239.200')"
      ]
     },
     "execution_count": 45,
     "metadata": {},
     "output_type": "execute_result"
    }
   ],
   "source": [
    "#creating a dataframe with 100 Fakers\n",
    "fake = Faker(['no_NO']) #Create a faker with norwegian Names and structures\n",
    "\n",
    "#Faker calls you will need:\n",
    "fake.name(),fake.address(),fake.ssn(),fake.credit_card_number(),fake.ipv4()\n",
    "\n",
    "\n"
   ]
  },
  {
   "cell_type": "code",
   "execution_count": 46,
   "metadata": {},
   "outputs": [],
   "source": [
    "#define columns\n",
    "columns = ['Name', 'Address', 'SSN', 'CreditCardNumber', 'IPv4']"
   ]
  },
  {
   "cell_type": "code",
   "execution_count": 47,
   "metadata": {},
   "outputs": [],
   "source": [
    "#define df and add data to the columns\n",
    "df = pd.DataFrame(columns=columns)\n"
   ]
  },
  {
   "cell_type": "code",
   "execution_count": 48,
   "metadata": {},
   "outputs": [],
   "source": [
    "#Use a loop to make 100 Fake data\n",
    "for i in range(100):\n",
    "    row = fake.name(), fake.address(), fake.ssn().replace('\\n', ' '), fake.credit_card_number(), fake.ipv4()\n",
    "    df.loc[i] = row\n",
    "\n",
    "    df.head()\n",
    "    "
   ]
  },
  {
   "cell_type": "code",
   "execution_count": 49,
   "metadata": {},
   "outputs": [
    {
     "data": {
      "text/html": [
       "<div>\n",
       "<style scoped>\n",
       "    .dataframe tbody tr th:only-of-type {\n",
       "        vertical-align: middle;\n",
       "    }\n",
       "\n",
       "    .dataframe tbody tr th {\n",
       "        vertical-align: top;\n",
       "    }\n",
       "\n",
       "    .dataframe thead th {\n",
       "        text-align: right;\n",
       "    }\n",
       "</style>\n",
       "<table border=\"1\" class=\"dataframe\">\n",
       "  <thead>\n",
       "    <tr style=\"text-align: right;\">\n",
       "      <th></th>\n",
       "      <th>Name</th>\n",
       "      <th>Address</th>\n",
       "      <th>SSN</th>\n",
       "      <th>CreditCardNumber</th>\n",
       "      <th>IPv4</th>\n",
       "    </tr>\n",
       "  </thead>\n",
       "  <tbody>\n",
       "    <tr>\n",
       "      <th>0</th>\n",
       "      <td>Marianne Sørensen</td>\n",
       "      <td>Moensvingen 8, 6454 Heidistad</td>\n",
       "      <td>20059717961</td>\n",
       "      <td>2652926669928767</td>\n",
       "      <td>74.210.68.90</td>\n",
       "    </tr>\n",
       "    <tr>\n",
       "      <th>1</th>\n",
       "      <td>Lene Eriksen</td>\n",
       "      <td>Andersenstien 4F, 3817 Strand</td>\n",
       "      <td>05088126191</td>\n",
       "      <td>4571671083439124</td>\n",
       "      <td>29.203.216.217</td>\n",
       "    </tr>\n",
       "    <tr>\n",
       "      <th>2</th>\n",
       "      <td>Cecilie Halvorsen-Ellingsen</td>\n",
       "      <td>Bøeengen 5, 6906 Thorsen</td>\n",
       "      <td>11105141531</td>\n",
       "      <td>560624055342</td>\n",
       "      <td>43.162.118.48</td>\n",
       "    </tr>\n",
       "    <tr>\n",
       "      <th>3</th>\n",
       "      <td>Jan Andresen</td>\n",
       "      <td>Rønningekra 49, 3813 Henrikvik</td>\n",
       "      <td>13084431391</td>\n",
       "      <td>30128330534655</td>\n",
       "      <td>190.80.110.92</td>\n",
       "    </tr>\n",
       "    <tr>\n",
       "      <th>4</th>\n",
       "      <td>Nina Haugland</td>\n",
       "      <td>Liengata 2, 5329 Tveit</td>\n",
       "      <td>26025002694</td>\n",
       "      <td>4654471351856854242</td>\n",
       "      <td>213.30.196.177</td>\n",
       "    </tr>\n",
       "  </tbody>\n",
       "</table>\n",
       "</div>"
      ],
      "text/plain": [
       "                          Name                         Address          SSN  \\\n",
       "0            Marianne Sørensen   Moensvingen 8, 6454 Heidistad  20059717961   \n",
       "1                 Lene Eriksen   Andersenstien 4F, 3817 Strand  05088126191   \n",
       "2  Cecilie Halvorsen-Ellingsen        Bøeengen 5, 6906 Thorsen  11105141531   \n",
       "3                 Jan Andresen  Rønningekra 49, 3813 Henrikvik  13084431391   \n",
       "4                Nina Haugland          Liengata 2, 5329 Tveit  26025002694   \n",
       "\n",
       "      CreditCardNumber            IPv4  \n",
       "0     2652926669928767    74.210.68.90  \n",
       "1     4571671083439124  29.203.216.217  \n",
       "2         560624055342   43.162.118.48  \n",
       "3       30128330534655   190.80.110.92  \n",
       "4  4654471351856854242  213.30.196.177  "
      ]
     },
     "execution_count": 49,
     "metadata": {},
     "output_type": "execute_result"
    }
   ],
   "source": [
    "df.head()"
   ]
  }
 ],
 "metadata": {
  "kernelspec": {
   "display_name": "dave3625",
   "language": "python",
   "name": "python3"
  },
  "language_info": {
   "codemirror_mode": {
    "name": "ipython",
    "version": 3
   },
   "file_extension": ".py",
   "mimetype": "text/x-python",
   "name": "python",
   "nbconvert_exporter": "python",
   "pygments_lexer": "ipython3",
   "version": "3.8.17"
  },
  "orig_nbformat": 4
 },
 "nbformat": 4,
 "nbformat_minor": 2
}
