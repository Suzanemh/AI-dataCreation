{
 "cells": [
  {
   "cell_type": "markdown",
   "metadata": {},
   "source": [
    "FLIGHT TASK"
   ]
  },
  {
   "cell_type": "code",
   "execution_count": 123,
   "metadata": {},
   "outputs": [],
   "source": [
    "#Import\n",
    "%matplotlib inline\n",
    "import pandas as pd\n",
    "import numpy as np\n",
    "import matplotlib.pyplot as plt\n",
    "import datetime"
   ]
  },
  {
   "cell_type": "code",
   "execution_count": 124,
   "metadata": {},
   "outputs": [
    {
     "data": {
      "text/html": [
       "<div>\n",
       "<style scoped>\n",
       "    .dataframe tbody tr th:only-of-type {\n",
       "        vertical-align: middle;\n",
       "    }\n",
       "\n",
       "    .dataframe tbody tr th {\n",
       "        vertical-align: top;\n",
       "    }\n",
       "\n",
       "    .dataframe thead th {\n",
       "        text-align: right;\n",
       "    }\n",
       "</style>\n",
       "<table border=\"1\" class=\"dataframe\">\n",
       "  <thead>\n",
       "    <tr style=\"text-align: right;\">\n",
       "      <th></th>\n",
       "      <th>Unnamed: 0</th>\n",
       "      <th>datetime_val</th>\n",
       "      <th>dep_time</th>\n",
       "      <th>arr_time</th>\n",
       "      <th>sched_arr_time</th>\n",
       "      <th>flight</th>\n",
       "      <th>origin</th>\n",
       "      <th>dest</th>\n",
       "    </tr>\n",
       "  </thead>\n",
       "  <tbody>\n",
       "    <tr>\n",
       "      <th>0</th>\n",
       "      <td>0</td>\n",
       "      <td>2013-1-1 05:40:00</td>\n",
       "      <td>2013-1-1 05:42:00</td>\n",
       "      <td>2013-1-1 09:23:00</td>\n",
       "      <td>2013-1-1 08:50:00</td>\n",
       "      <td>1141</td>\n",
       "      <td>JFK</td>\n",
       "      <td>MIA</td>\n",
       "    </tr>\n",
       "    <tr>\n",
       "      <th>1</th>\n",
       "      <td>1</td>\n",
       "      <td>2013-1-1 06:00:00</td>\n",
       "      <td>2013-1-1 05:54:00</td>\n",
       "      <td>2013-1-1 08:12:00</td>\n",
       "      <td>2013-1-1 08:37:00</td>\n",
       "      <td>461</td>\n",
       "      <td>LGA</td>\n",
       "      <td>ATL</td>\n",
       "    </tr>\n",
       "    <tr>\n",
       "      <th>2</th>\n",
       "      <td>2</td>\n",
       "      <td>2013-1-1 05:58:00</td>\n",
       "      <td>2013-1-1 05:54:00</td>\n",
       "      <td>2013-1-1 07:40:00</td>\n",
       "      <td>2013-1-1 07:28:00</td>\n",
       "      <td>1696</td>\n",
       "      <td>EWR</td>\n",
       "      <td>ORD</td>\n",
       "    </tr>\n",
       "    <tr>\n",
       "      <th>3</th>\n",
       "      <td>3</td>\n",
       "      <td>2013-1-1 06:00:00</td>\n",
       "      <td>2013-1-1 05:55:00</td>\n",
       "      <td>2013-1-1 09:13:00</td>\n",
       "      <td>2013-1-1 08:54:00</td>\n",
       "      <td>507</td>\n",
       "      <td>EWR</td>\n",
       "      <td>FLL</td>\n",
       "    </tr>\n",
       "    <tr>\n",
       "      <th>4</th>\n",
       "      <td>4</td>\n",
       "      <td>2013-1-1 06:00:00</td>\n",
       "      <td>2013-1-1 05:57:00</td>\n",
       "      <td>2013-1-1 08:38:00</td>\n",
       "      <td>2013-1-1 08:46:00</td>\n",
       "      <td>79</td>\n",
       "      <td>JFK</td>\n",
       "      <td>MCO</td>\n",
       "    </tr>\n",
       "    <tr>\n",
       "      <th>...</th>\n",
       "      <td>...</td>\n",
       "      <td>...</td>\n",
       "      <td>...</td>\n",
       "      <td>...</td>\n",
       "      <td>...</td>\n",
       "      <td>...</td>\n",
       "      <td>...</td>\n",
       "      <td>...</td>\n",
       "    </tr>\n",
       "    <tr>\n",
       "      <th>121422</th>\n",
       "      <td>123979</td>\n",
       "      <td>2013-9-30 21:37:00</td>\n",
       "      <td>2013-9-30 21:47:00</td>\n",
       "      <td>2013-9-30 00:30:00</td>\n",
       "      <td>2013-9-30 00:27:00</td>\n",
       "      <td>1371</td>\n",
       "      <td>LGA</td>\n",
       "      <td>FLL</td>\n",
       "    </tr>\n",
       "    <tr>\n",
       "      <th>121423</th>\n",
       "      <td>123980</td>\n",
       "      <td>2013-9-30 21:56:00</td>\n",
       "      <td>2013-9-30 21:49:00</td>\n",
       "      <td>2013-9-30 22:45:00</td>\n",
       "      <td>2013-9-30 23:08:00</td>\n",
       "      <td>523</td>\n",
       "      <td>EWR</td>\n",
       "      <td>BOS</td>\n",
       "    </tr>\n",
       "    <tr>\n",
       "      <th>121424</th>\n",
       "      <td>123981</td>\n",
       "      <td>2013-9-30 21:13:00</td>\n",
       "      <td>2013-9-30 22:33:00</td>\n",
       "      <td>2013-9-30 01:12:00</td>\n",
       "      <td>2013-9-30 00:30:00</td>\n",
       "      <td>471</td>\n",
       "      <td>EWR</td>\n",
       "      <td>SFO</td>\n",
       "    </tr>\n",
       "    <tr>\n",
       "      <th>121425</th>\n",
       "      <td>123982</td>\n",
       "      <td>2013-9-30 20:01:00</td>\n",
       "      <td>2013-9-30 22:35:00</td>\n",
       "      <td>2013-9-30 00:59:00</td>\n",
       "      <td>2013-9-30 22:49:00</td>\n",
       "      <td>1083</td>\n",
       "      <td>JFK</td>\n",
       "      <td>MCO</td>\n",
       "    </tr>\n",
       "    <tr>\n",
       "      <th>121426</th>\n",
       "      <td>123983</td>\n",
       "      <td>2013-9-30 22:55:00</td>\n",
       "      <td>2013-9-30 23:07:00</td>\n",
       "      <td>2013-9-30 23:59:00</td>\n",
       "      <td>2013-9-30 23:58:00</td>\n",
       "      <td>718</td>\n",
       "      <td>JFK</td>\n",
       "      <td>BOS</td>\n",
       "    </tr>\n",
       "  </tbody>\n",
       "</table>\n",
       "<p>121427 rows × 8 columns</p>\n",
       "</div>"
      ],
      "text/plain": [
       "        Unnamed: 0        datetime_val            dep_time  \\\n",
       "0                0   2013-1-1 05:40:00   2013-1-1 05:42:00   \n",
       "1                1   2013-1-1 06:00:00   2013-1-1 05:54:00   \n",
       "2                2   2013-1-1 05:58:00   2013-1-1 05:54:00   \n",
       "3                3   2013-1-1 06:00:00   2013-1-1 05:55:00   \n",
       "4                4   2013-1-1 06:00:00   2013-1-1 05:57:00   \n",
       "...            ...                 ...                 ...   \n",
       "121422      123979  2013-9-30 21:37:00  2013-9-30 21:47:00   \n",
       "121423      123980  2013-9-30 21:56:00  2013-9-30 21:49:00   \n",
       "121424      123981  2013-9-30 21:13:00  2013-9-30 22:33:00   \n",
       "121425      123982  2013-9-30 20:01:00  2013-9-30 22:35:00   \n",
       "121426      123983  2013-9-30 22:55:00  2013-9-30 23:07:00   \n",
       "\n",
       "                  arr_time      sched_arr_time  flight origin dest  \n",
       "0        2013-1-1 09:23:00   2013-1-1 08:50:00    1141    JFK  MIA  \n",
       "1        2013-1-1 08:12:00   2013-1-1 08:37:00     461    LGA  ATL  \n",
       "2        2013-1-1 07:40:00   2013-1-1 07:28:00    1696    EWR  ORD  \n",
       "3        2013-1-1 09:13:00   2013-1-1 08:54:00     507    EWR  FLL  \n",
       "4        2013-1-1 08:38:00   2013-1-1 08:46:00      79    JFK  MCO  \n",
       "...                    ...                 ...     ...    ...  ...  \n",
       "121422  2013-9-30 00:30:00  2013-9-30 00:27:00    1371    LGA  FLL  \n",
       "121423  2013-9-30 22:45:00  2013-9-30 23:08:00     523    EWR  BOS  \n",
       "121424  2013-9-30 01:12:00  2013-9-30 00:30:00     471    EWR  SFO  \n",
       "121425  2013-9-30 00:59:00  2013-9-30 22:49:00    1083    JFK  MCO  \n",
       "121426  2013-9-30 23:59:00  2013-9-30 23:58:00     718    JFK  BOS  \n",
       "\n",
       "[121427 rows x 8 columns]"
      ]
     },
     "execution_count": 124,
     "metadata": {},
     "output_type": "execute_result"
    }
   ],
   "source": [
    "#import the flight.csv\n",
    "df = pd.read_csv(\"flight.csv\")\n",
    "\n",
    "df"
   ]
  },
  {
   "cell_type": "code",
   "execution_count": 125,
   "metadata": {},
   "outputs": [
    {
     "name": "stdout",
     "output_type": "stream",
     "text": [
      "<class 'pandas.core.frame.DataFrame'>\n",
      "RangeIndex: 121427 entries, 0 to 121426\n",
      "Data columns (total 8 columns):\n",
      " #   Column          Non-Null Count   Dtype \n",
      "---  ------          --------------   ----- \n",
      " 0   Unnamed: 0      121427 non-null  int64 \n",
      " 1   datetime_val    121427 non-null  object\n",
      " 2   dep_time        121427 non-null  object\n",
      " 3   arr_time        121427 non-null  object\n",
      " 4   sched_arr_time  121427 non-null  object\n",
      " 5   flight          121427 non-null  int64 \n",
      " 6   origin          121427 non-null  object\n",
      " 7   dest            121427 non-null  object\n",
      "dtypes: int64(2), object(6)\n",
      "memory usage: 7.4+ MB\n"
     ]
    }
   ],
   "source": [
    "df.info()"
   ]
  },
  {
   "cell_type": "markdown",
   "metadata": {},
   "source": [
    "Convert the columns below to datetime\n",
    "\n",
    "To convert multiple columns to datetime type within a DataFrame, you can use the pd.to_datetime function for each of the columns you want to convert. Here's how you can do it for columns datetime_val, dep_time, arr_time, and sched_arr_time:"
   ]
  },
  {
   "cell_type": "code",
   "execution_count": 126,
   "metadata": {},
   "outputs": [],
   "source": [
    "#the errors='coerce' parameter will convert the values it can while assigning a NaN value for any values it cannot parse:\n",
    "df['datetime_val'] = pd.to_datetime(df['datetime_val'] , errors=\"coerce\")\n",
    "df['dep_time'] = pd.to_datetime(df['dep_time'] , errors=\"coerce\")\n",
    "df['arr_time'] = pd.to_datetime(df['arr_time'] , errors=\"coerce\")\n",
    "df['sched_arr_time'] = pd.to_datetime(df['sched_arr_time'], errors=\"coerce\")"
   ]
  },
  {
   "cell_type": "markdown",
   "metadata": {},
   "source": [
    "Checking the types again"
   ]
  },
  {
   "cell_type": "code",
   "execution_count": 127,
   "metadata": {},
   "outputs": [
    {
     "name": "stdout",
     "output_type": "stream",
     "text": [
      "<class 'pandas.core.frame.DataFrame'>\n",
      "RangeIndex: 121427 entries, 0 to 121426\n",
      "Data columns (total 8 columns):\n",
      " #   Column          Non-Null Count   Dtype         \n",
      "---  ------          --------------   -----         \n",
      " 0   Unnamed: 0      121427 non-null  int64         \n",
      " 1   datetime_val    121427 non-null  datetime64[ns]\n",
      " 2   dep_time        121421 non-null  datetime64[ns]\n",
      " 3   arr_time        121379 non-null  datetime64[ns]\n",
      " 4   sched_arr_time  121427 non-null  datetime64[ns]\n",
      " 5   flight          121427 non-null  int64         \n",
      " 6   origin          121427 non-null  object        \n",
      " 7   dest            121427 non-null  object        \n",
      "dtypes: datetime64[ns](4), int64(2), object(2)\n",
      "memory usage: 7.4+ MB\n"
     ]
    }
   ],
   "source": [
    "df.info()"
   ]
  },
  {
   "cell_type": "markdown",
   "metadata": {},
   "source": [
    "Some flights go past midnight as well, but the dataset don’t handle this. So a plain that took off 2013-01-01 23:57:00 and landed 2013-01-02 02:57:00 will come up in the dataset as 01-01 23:57:00 -> 01-01 02:57:00 (negative flight time)"
   ]
  },
  {
   "cell_type": "code",
   "execution_count": 128,
   "metadata": {},
   "outputs": [],
   "source": [
    "for index, row in df.iterrows():\n",
    "    #if arr_time is less then dep_time\n",
    "    if (row['arr_time']<row['dep_time']):\n",
    "        #add one day to arr_time\n",
    "        df.loc[index, 'arr_time'] = (row['arr_time'])+ datetime.timedelta(days=1)\n",
    "    if (row['sched_arr_time']<row['dep_time']):\n",
    "        df.loc[index, 'sched_arr_time'] = (row['sched_arr_time'])+ datetime.timedelta(days=1)\n",
    "      "
   ]
  },
  {
   "cell_type": "code",
   "execution_count": 129,
   "metadata": {},
   "outputs": [
    {
     "data": {
      "text/html": [
       "<div>\n",
       "<style scoped>\n",
       "    .dataframe tbody tr th:only-of-type {\n",
       "        vertical-align: middle;\n",
       "    }\n",
       "\n",
       "    .dataframe tbody tr th {\n",
       "        vertical-align: top;\n",
       "    }\n",
       "\n",
       "    .dataframe thead th {\n",
       "        text-align: right;\n",
       "    }\n",
       "</style>\n",
       "<table border=\"1\" class=\"dataframe\">\n",
       "  <thead>\n",
       "    <tr style=\"text-align: right;\">\n",
       "      <th></th>\n",
       "      <th>Unnamed: 0</th>\n",
       "      <th>datetime_val</th>\n",
       "      <th>dep_time</th>\n",
       "      <th>arr_time</th>\n",
       "      <th>sched_arr_time</th>\n",
       "      <th>flight</th>\n",
       "      <th>origin</th>\n",
       "      <th>dest</th>\n",
       "    </tr>\n",
       "  </thead>\n",
       "  <tbody>\n",
       "    <tr>\n",
       "      <th>626</th>\n",
       "      <td>628</td>\n",
       "      <td>2013-01-02 21:55:00</td>\n",
       "      <td>2013-01-02 23:37:00</td>\n",
       "      <td>2013-01-03 02:22:00</td>\n",
       "      <td>2013-01-03 00:41:00</td>\n",
       "      <td>43</td>\n",
       "      <td>JFK</td>\n",
       "      <td>MCO</td>\n",
       "    </tr>\n",
       "    <tr>\n",
       "      <th>949</th>\n",
       "      <td>954</td>\n",
       "      <td>2013-01-03 22:58:00</td>\n",
       "      <td>2013-01-03 23:22:00</td>\n",
       "      <td>2013-01-04 00:18:00</td>\n",
       "      <td>2013-01-04 00:02:00</td>\n",
       "      <td>1018</td>\n",
       "      <td>JFK</td>\n",
       "      <td>BOS</td>\n",
       "    </tr>\n",
       "    <tr>\n",
       "      <th>1275</th>\n",
       "      <td>1283</td>\n",
       "      <td>2013-01-04 22:55:00</td>\n",
       "      <td>2013-01-04 23:07:00</td>\n",
       "      <td>2013-01-05 00:17:00</td>\n",
       "      <td>2013-01-04 23:59:00</td>\n",
       "      <td>1018</td>\n",
       "      <td>JFK</td>\n",
       "      <td>BOS</td>\n",
       "    </tr>\n",
       "    <tr>\n",
       "      <th>1539</th>\n",
       "      <td>1547</td>\n",
       "      <td>2013-01-05 21:55:00</td>\n",
       "      <td>2013-01-05 23:19:00</td>\n",
       "      <td>2013-01-06 02:02:00</td>\n",
       "      <td>2013-01-06 00:41:00</td>\n",
       "      <td>43</td>\n",
       "      <td>JFK</td>\n",
       "      <td>MCO</td>\n",
       "    </tr>\n",
       "    <tr>\n",
       "      <th>1839</th>\n",
       "      <td>1848</td>\n",
       "      <td>2013-01-06 22:55:00</td>\n",
       "      <td>2013-01-06 23:13:00</td>\n",
       "      <td>2013-01-07 00:12:00</td>\n",
       "      <td>2013-01-06 23:59:00</td>\n",
       "      <td>1018</td>\n",
       "      <td>JFK</td>\n",
       "      <td>BOS</td>\n",
       "    </tr>\n",
       "  </tbody>\n",
       "</table>\n",
       "</div>"
      ],
      "text/plain": [
       "      Unnamed: 0        datetime_val            dep_time            arr_time  \\\n",
       "626          628 2013-01-02 21:55:00 2013-01-02 23:37:00 2013-01-03 02:22:00   \n",
       "949          954 2013-01-03 22:58:00 2013-01-03 23:22:00 2013-01-04 00:18:00   \n",
       "1275        1283 2013-01-04 22:55:00 2013-01-04 23:07:00 2013-01-05 00:17:00   \n",
       "1539        1547 2013-01-05 21:55:00 2013-01-05 23:19:00 2013-01-06 02:02:00   \n",
       "1839        1848 2013-01-06 22:55:00 2013-01-06 23:13:00 2013-01-07 00:12:00   \n",
       "\n",
       "          sched_arr_time  flight origin dest  \n",
       "626  2013-01-03 00:41:00      43    JFK  MCO  \n",
       "949  2013-01-04 00:02:00    1018    JFK  BOS  \n",
       "1275 2013-01-04 23:59:00    1018    JFK  BOS  \n",
       "1539 2013-01-06 00:41:00      43    JFK  MCO  \n",
       "1839 2013-01-06 23:59:00    1018    JFK  BOS  "
      ]
     },
     "execution_count": 129,
     "metadata": {},
     "output_type": "execute_result"
    }
   ],
   "source": [
    "late_flights = df[df['dep_time'].dt.hour >= 23]\n",
    "late_flights.head()"
   ]
  },
  {
   "cell_type": "markdown",
   "metadata": {},
   "source": [
    "Adding a column called air_time"
   ]
  },
  {
   "cell_type": "code",
   "execution_count": 130,
   "metadata": {},
   "outputs": [],
   "source": [
    "df['air_time'] = (df['arr_time'] - df['dep_time'])"
   ]
  },
  {
   "cell_type": "markdown",
   "metadata": {},
   "source": [
    "show content"
   ]
  },
  {
   "cell_type": "code",
   "execution_count": 131,
   "metadata": {},
   "outputs": [
    {
     "data": {
      "text/html": [
       "<div>\n",
       "<style scoped>\n",
       "    .dataframe tbody tr th:only-of-type {\n",
       "        vertical-align: middle;\n",
       "    }\n",
       "\n",
       "    .dataframe tbody tr th {\n",
       "        vertical-align: top;\n",
       "    }\n",
       "\n",
       "    .dataframe thead th {\n",
       "        text-align: right;\n",
       "    }\n",
       "</style>\n",
       "<table border=\"1\" class=\"dataframe\">\n",
       "  <thead>\n",
       "    <tr style=\"text-align: right;\">\n",
       "      <th></th>\n",
       "      <th>Unnamed: 0</th>\n",
       "      <th>datetime_val</th>\n",
       "      <th>dep_time</th>\n",
       "      <th>arr_time</th>\n",
       "      <th>sched_arr_time</th>\n",
       "      <th>flight</th>\n",
       "      <th>origin</th>\n",
       "      <th>dest</th>\n",
       "      <th>air_time</th>\n",
       "    </tr>\n",
       "  </thead>\n",
       "  <tbody>\n",
       "    <tr>\n",
       "      <th>0</th>\n",
       "      <td>0</td>\n",
       "      <td>2013-01-01 05:40:00</td>\n",
       "      <td>2013-01-01 05:42:00</td>\n",
       "      <td>2013-01-01 09:23:00</td>\n",
       "      <td>2013-01-01 08:50:00</td>\n",
       "      <td>1141</td>\n",
       "      <td>JFK</td>\n",
       "      <td>MIA</td>\n",
       "      <td>0 days 03:41:00</td>\n",
       "    </tr>\n",
       "    <tr>\n",
       "      <th>1</th>\n",
       "      <td>1</td>\n",
       "      <td>2013-01-01 06:00:00</td>\n",
       "      <td>2013-01-01 05:54:00</td>\n",
       "      <td>2013-01-01 08:12:00</td>\n",
       "      <td>2013-01-01 08:37:00</td>\n",
       "      <td>461</td>\n",
       "      <td>LGA</td>\n",
       "      <td>ATL</td>\n",
       "      <td>0 days 02:18:00</td>\n",
       "    </tr>\n",
       "    <tr>\n",
       "      <th>2</th>\n",
       "      <td>2</td>\n",
       "      <td>2013-01-01 05:58:00</td>\n",
       "      <td>2013-01-01 05:54:00</td>\n",
       "      <td>2013-01-01 07:40:00</td>\n",
       "      <td>2013-01-01 07:28:00</td>\n",
       "      <td>1696</td>\n",
       "      <td>EWR</td>\n",
       "      <td>ORD</td>\n",
       "      <td>0 days 01:46:00</td>\n",
       "    </tr>\n",
       "    <tr>\n",
       "      <th>3</th>\n",
       "      <td>3</td>\n",
       "      <td>2013-01-01 06:00:00</td>\n",
       "      <td>2013-01-01 05:55:00</td>\n",
       "      <td>2013-01-01 09:13:00</td>\n",
       "      <td>2013-01-01 08:54:00</td>\n",
       "      <td>507</td>\n",
       "      <td>EWR</td>\n",
       "      <td>FLL</td>\n",
       "      <td>0 days 03:18:00</td>\n",
       "    </tr>\n",
       "    <tr>\n",
       "      <th>4</th>\n",
       "      <td>4</td>\n",
       "      <td>2013-01-01 06:00:00</td>\n",
       "      <td>2013-01-01 05:57:00</td>\n",
       "      <td>2013-01-01 08:38:00</td>\n",
       "      <td>2013-01-01 08:46:00</td>\n",
       "      <td>79</td>\n",
       "      <td>JFK</td>\n",
       "      <td>MCO</td>\n",
       "      <td>0 days 02:41:00</td>\n",
       "    </tr>\n",
       "  </tbody>\n",
       "</table>\n",
       "</div>"
      ],
      "text/plain": [
       "   Unnamed: 0        datetime_val            dep_time            arr_time  \\\n",
       "0           0 2013-01-01 05:40:00 2013-01-01 05:42:00 2013-01-01 09:23:00   \n",
       "1           1 2013-01-01 06:00:00 2013-01-01 05:54:00 2013-01-01 08:12:00   \n",
       "2           2 2013-01-01 05:58:00 2013-01-01 05:54:00 2013-01-01 07:40:00   \n",
       "3           3 2013-01-01 06:00:00 2013-01-01 05:55:00 2013-01-01 09:13:00   \n",
       "4           4 2013-01-01 06:00:00 2013-01-01 05:57:00 2013-01-01 08:38:00   \n",
       "\n",
       "       sched_arr_time  flight origin dest        air_time  \n",
       "0 2013-01-01 08:50:00    1141    JFK  MIA 0 days 03:41:00  \n",
       "1 2013-01-01 08:37:00     461    LGA  ATL 0 days 02:18:00  \n",
       "2 2013-01-01 07:28:00    1696    EWR  ORD 0 days 01:46:00  \n",
       "3 2013-01-01 08:54:00     507    EWR  FLL 0 days 03:18:00  \n",
       "4 2013-01-01 08:46:00      79    JFK  MCO 0 days 02:41:00  "
      ]
     },
     "execution_count": 131,
     "metadata": {},
     "output_type": "execute_result"
    }
   ],
   "source": [
    "df.head()"
   ]
  },
  {
   "cell_type": "markdown",
   "metadata": {},
   "source": [
    "Look up for how the air_time calculation is affected by flights over midnight"
   ]
  },
  {
   "cell_type": "code",
   "execution_count": 132,
   "metadata": {},
   "outputs": [
    {
     "data": {
      "text/html": [
       "<div>\n",
       "<style scoped>\n",
       "    .dataframe tbody tr th:only-of-type {\n",
       "        vertical-align: middle;\n",
       "    }\n",
       "\n",
       "    .dataframe tbody tr th {\n",
       "        vertical-align: top;\n",
       "    }\n",
       "\n",
       "    .dataframe thead th {\n",
       "        text-align: right;\n",
       "    }\n",
       "</style>\n",
       "<table border=\"1\" class=\"dataframe\">\n",
       "  <thead>\n",
       "    <tr style=\"text-align: right;\">\n",
       "      <th></th>\n",
       "      <th>Unnamed: 0</th>\n",
       "      <th>datetime_val</th>\n",
       "      <th>dep_time</th>\n",
       "      <th>arr_time</th>\n",
       "      <th>sched_arr_time</th>\n",
       "      <th>flight</th>\n",
       "      <th>origin</th>\n",
       "      <th>dest</th>\n",
       "      <th>air_time</th>\n",
       "    </tr>\n",
       "  </thead>\n",
       "  <tbody>\n",
       "    <tr>\n",
       "      <th>626</th>\n",
       "      <td>628</td>\n",
       "      <td>2013-01-02 21:55:00</td>\n",
       "      <td>2013-01-02 23:37:00</td>\n",
       "      <td>2013-01-03 02:22:00</td>\n",
       "      <td>2013-01-03 00:41:00</td>\n",
       "      <td>43</td>\n",
       "      <td>JFK</td>\n",
       "      <td>MCO</td>\n",
       "      <td>0 days 02:45:00</td>\n",
       "    </tr>\n",
       "    <tr>\n",
       "      <th>949</th>\n",
       "      <td>954</td>\n",
       "      <td>2013-01-03 22:58:00</td>\n",
       "      <td>2013-01-03 23:22:00</td>\n",
       "      <td>2013-01-04 00:18:00</td>\n",
       "      <td>2013-01-04 00:02:00</td>\n",
       "      <td>1018</td>\n",
       "      <td>JFK</td>\n",
       "      <td>BOS</td>\n",
       "      <td>0 days 00:56:00</td>\n",
       "    </tr>\n",
       "    <tr>\n",
       "      <th>1275</th>\n",
       "      <td>1283</td>\n",
       "      <td>2013-01-04 22:55:00</td>\n",
       "      <td>2013-01-04 23:07:00</td>\n",
       "      <td>2013-01-05 00:17:00</td>\n",
       "      <td>2013-01-04 23:59:00</td>\n",
       "      <td>1018</td>\n",
       "      <td>JFK</td>\n",
       "      <td>BOS</td>\n",
       "      <td>0 days 01:10:00</td>\n",
       "    </tr>\n",
       "    <tr>\n",
       "      <th>1539</th>\n",
       "      <td>1547</td>\n",
       "      <td>2013-01-05 21:55:00</td>\n",
       "      <td>2013-01-05 23:19:00</td>\n",
       "      <td>2013-01-06 02:02:00</td>\n",
       "      <td>2013-01-06 00:41:00</td>\n",
       "      <td>43</td>\n",
       "      <td>JFK</td>\n",
       "      <td>MCO</td>\n",
       "      <td>0 days 02:43:00</td>\n",
       "    </tr>\n",
       "    <tr>\n",
       "      <th>1839</th>\n",
       "      <td>1848</td>\n",
       "      <td>2013-01-06 22:55:00</td>\n",
       "      <td>2013-01-06 23:13:00</td>\n",
       "      <td>2013-01-07 00:12:00</td>\n",
       "      <td>2013-01-06 23:59:00</td>\n",
       "      <td>1018</td>\n",
       "      <td>JFK</td>\n",
       "      <td>BOS</td>\n",
       "      <td>0 days 00:59:00</td>\n",
       "    </tr>\n",
       "  </tbody>\n",
       "</table>\n",
       "</div>"
      ],
      "text/plain": [
       "      Unnamed: 0        datetime_val            dep_time            arr_time  \\\n",
       "626          628 2013-01-02 21:55:00 2013-01-02 23:37:00 2013-01-03 02:22:00   \n",
       "949          954 2013-01-03 22:58:00 2013-01-03 23:22:00 2013-01-04 00:18:00   \n",
       "1275        1283 2013-01-04 22:55:00 2013-01-04 23:07:00 2013-01-05 00:17:00   \n",
       "1539        1547 2013-01-05 21:55:00 2013-01-05 23:19:00 2013-01-06 02:02:00   \n",
       "1839        1848 2013-01-06 22:55:00 2013-01-06 23:13:00 2013-01-07 00:12:00   \n",
       "\n",
       "          sched_arr_time  flight origin dest        air_time  \n",
       "626  2013-01-03 00:41:00      43    JFK  MCO 0 days 02:45:00  \n",
       "949  2013-01-04 00:02:00    1018    JFK  BOS 0 days 00:56:00  \n",
       "1275 2013-01-04 23:59:00    1018    JFK  BOS 0 days 01:10:00  \n",
       "1539 2013-01-06 00:41:00      43    JFK  MCO 0 days 02:43:00  \n",
       "1839 2013-01-06 23:59:00    1018    JFK  BOS 0 days 00:59:00  "
      ]
     },
     "execution_count": 132,
     "metadata": {},
     "output_type": "execute_result"
    }
   ],
   "source": [
    "late_flights = df[df['dep_time'].dt.hour >= 23]\n",
    "late_flights.head()"
   ]
  },
  {
   "cell_type": "markdown",
   "metadata": {},
   "source": [
    "Make the % delay column"
   ]
  },
  {
   "cell_type": "code",
   "execution_count": 133,
   "metadata": {},
   "outputs": [
    {
     "data": {
      "text/html": [
       "<div>\n",
       "<style scoped>\n",
       "    .dataframe tbody tr th:only-of-type {\n",
       "        vertical-align: middle;\n",
       "    }\n",
       "\n",
       "    .dataframe tbody tr th {\n",
       "        vertical-align: top;\n",
       "    }\n",
       "\n",
       "    .dataframe thead th {\n",
       "        text-align: right;\n",
       "    }\n",
       "</style>\n",
       "<table border=\"1\" class=\"dataframe\">\n",
       "  <thead>\n",
       "    <tr style=\"text-align: right;\">\n",
       "      <th></th>\n",
       "      <th>Unnamed: 0</th>\n",
       "      <th>datetime_val</th>\n",
       "      <th>dep_time</th>\n",
       "      <th>arr_time</th>\n",
       "      <th>sched_arr_time</th>\n",
       "      <th>flight</th>\n",
       "      <th>origin</th>\n",
       "      <th>dest</th>\n",
       "      <th>air_time</th>\n",
       "      <th>Delay</th>\n",
       "      <th>percent_delay</th>\n",
       "    </tr>\n",
       "  </thead>\n",
       "  <tbody>\n",
       "    <tr>\n",
       "      <th>0</th>\n",
       "      <td>0</td>\n",
       "      <td>2013-01-01 05:40:00</td>\n",
       "      <td>2013-01-01 05:42:00</td>\n",
       "      <td>2013-01-01 09:23:00</td>\n",
       "      <td>2013-01-01 08:50:00</td>\n",
       "      <td>1141</td>\n",
       "      <td>JFK</td>\n",
       "      <td>MIA</td>\n",
       "      <td>0 days 03:41:00</td>\n",
       "      <td>0 days 00:33:00</td>\n",
       "      <td>14.932127</td>\n",
       "    </tr>\n",
       "    <tr>\n",
       "      <th>1</th>\n",
       "      <td>1</td>\n",
       "      <td>2013-01-01 06:00:00</td>\n",
       "      <td>2013-01-01 05:54:00</td>\n",
       "      <td>2013-01-01 08:12:00</td>\n",
       "      <td>2013-01-01 08:37:00</td>\n",
       "      <td>461</td>\n",
       "      <td>LGA</td>\n",
       "      <td>ATL</td>\n",
       "      <td>0 days 02:18:00</td>\n",
       "      <td>-1 days +23:35:00</td>\n",
       "      <td>-18.115942</td>\n",
       "    </tr>\n",
       "    <tr>\n",
       "      <th>2</th>\n",
       "      <td>2</td>\n",
       "      <td>2013-01-01 05:58:00</td>\n",
       "      <td>2013-01-01 05:54:00</td>\n",
       "      <td>2013-01-01 07:40:00</td>\n",
       "      <td>2013-01-01 07:28:00</td>\n",
       "      <td>1696</td>\n",
       "      <td>EWR</td>\n",
       "      <td>ORD</td>\n",
       "      <td>0 days 01:46:00</td>\n",
       "      <td>0 days 00:12:00</td>\n",
       "      <td>11.320755</td>\n",
       "    </tr>\n",
       "    <tr>\n",
       "      <th>3</th>\n",
       "      <td>3</td>\n",
       "      <td>2013-01-01 06:00:00</td>\n",
       "      <td>2013-01-01 05:55:00</td>\n",
       "      <td>2013-01-01 09:13:00</td>\n",
       "      <td>2013-01-01 08:54:00</td>\n",
       "      <td>507</td>\n",
       "      <td>EWR</td>\n",
       "      <td>FLL</td>\n",
       "      <td>0 days 03:18:00</td>\n",
       "      <td>0 days 00:19:00</td>\n",
       "      <td>9.595960</td>\n",
       "    </tr>\n",
       "    <tr>\n",
       "      <th>4</th>\n",
       "      <td>4</td>\n",
       "      <td>2013-01-01 06:00:00</td>\n",
       "      <td>2013-01-01 05:57:00</td>\n",
       "      <td>2013-01-01 08:38:00</td>\n",
       "      <td>2013-01-01 08:46:00</td>\n",
       "      <td>79</td>\n",
       "      <td>JFK</td>\n",
       "      <td>MCO</td>\n",
       "      <td>0 days 02:41:00</td>\n",
       "      <td>-1 days +23:52:00</td>\n",
       "      <td>-4.968944</td>\n",
       "    </tr>\n",
       "    <tr>\n",
       "      <th>5</th>\n",
       "      <td>5</td>\n",
       "      <td>2013-01-01 06:00:00</td>\n",
       "      <td>2013-01-01 05:58:00</td>\n",
       "      <td>2013-01-01 07:53:00</td>\n",
       "      <td>2013-01-01 07:45:00</td>\n",
       "      <td>301</td>\n",
       "      <td>LGA</td>\n",
       "      <td>ORD</td>\n",
       "      <td>0 days 01:55:00</td>\n",
       "      <td>0 days 00:08:00</td>\n",
       "      <td>6.956522</td>\n",
       "    </tr>\n",
       "    <tr>\n",
       "      <th>6</th>\n",
       "      <td>6</td>\n",
       "      <td>2013-01-01 06:00:00</td>\n",
       "      <td>2013-01-01 05:58:00</td>\n",
       "      <td>2013-01-01 09:24:00</td>\n",
       "      <td>2013-01-01 09:17:00</td>\n",
       "      <td>194</td>\n",
       "      <td>JFK</td>\n",
       "      <td>LAX</td>\n",
       "      <td>0 days 03:26:00</td>\n",
       "      <td>0 days 00:07:00</td>\n",
       "      <td>3.398058</td>\n",
       "    </tr>\n",
       "    <tr>\n",
       "      <th>7</th>\n",
       "      <td>7</td>\n",
       "      <td>2013-01-01 06:00:00</td>\n",
       "      <td>2013-01-01 05:58:00</td>\n",
       "      <td>2013-01-01 09:23:00</td>\n",
       "      <td>2013-01-01 09:37:00</td>\n",
       "      <td>1124</td>\n",
       "      <td>EWR</td>\n",
       "      <td>SFO</td>\n",
       "      <td>0 days 03:25:00</td>\n",
       "      <td>-1 days +23:46:00</td>\n",
       "      <td>-6.829268</td>\n",
       "    </tr>\n",
       "    <tr>\n",
       "      <th>8</th>\n",
       "      <td>8</td>\n",
       "      <td>2013-01-01 05:59:00</td>\n",
       "      <td>2013-01-01 05:59:00</td>\n",
       "      <td>2013-01-01 07:02:00</td>\n",
       "      <td>2013-01-01 07:06:00</td>\n",
       "      <td>1806</td>\n",
       "      <td>JFK</td>\n",
       "      <td>BOS</td>\n",
       "      <td>0 days 01:03:00</td>\n",
       "      <td>-1 days +23:56:00</td>\n",
       "      <td>-6.349206</td>\n",
       "    </tr>\n",
       "    <tr>\n",
       "      <th>9</th>\n",
       "      <td>9</td>\n",
       "      <td>2013-01-01 06:00:00</td>\n",
       "      <td>2013-01-01 06:00:00</td>\n",
       "      <td>2013-01-01 08:51:00</td>\n",
       "      <td>2013-01-01 08:58:00</td>\n",
       "      <td>371</td>\n",
       "      <td>LGA</td>\n",
       "      <td>FLL</td>\n",
       "      <td>0 days 02:51:00</td>\n",
       "      <td>-1 days +23:53:00</td>\n",
       "      <td>-4.093567</td>\n",
       "    </tr>\n",
       "  </tbody>\n",
       "</table>\n",
       "</div>"
      ],
      "text/plain": [
       "   Unnamed: 0        datetime_val            dep_time            arr_time  \\\n",
       "0           0 2013-01-01 05:40:00 2013-01-01 05:42:00 2013-01-01 09:23:00   \n",
       "1           1 2013-01-01 06:00:00 2013-01-01 05:54:00 2013-01-01 08:12:00   \n",
       "2           2 2013-01-01 05:58:00 2013-01-01 05:54:00 2013-01-01 07:40:00   \n",
       "3           3 2013-01-01 06:00:00 2013-01-01 05:55:00 2013-01-01 09:13:00   \n",
       "4           4 2013-01-01 06:00:00 2013-01-01 05:57:00 2013-01-01 08:38:00   \n",
       "5           5 2013-01-01 06:00:00 2013-01-01 05:58:00 2013-01-01 07:53:00   \n",
       "6           6 2013-01-01 06:00:00 2013-01-01 05:58:00 2013-01-01 09:24:00   \n",
       "7           7 2013-01-01 06:00:00 2013-01-01 05:58:00 2013-01-01 09:23:00   \n",
       "8           8 2013-01-01 05:59:00 2013-01-01 05:59:00 2013-01-01 07:02:00   \n",
       "9           9 2013-01-01 06:00:00 2013-01-01 06:00:00 2013-01-01 08:51:00   \n",
       "\n",
       "       sched_arr_time  flight origin dest        air_time             Delay  \\\n",
       "0 2013-01-01 08:50:00    1141    JFK  MIA 0 days 03:41:00   0 days 00:33:00   \n",
       "1 2013-01-01 08:37:00     461    LGA  ATL 0 days 02:18:00 -1 days +23:35:00   \n",
       "2 2013-01-01 07:28:00    1696    EWR  ORD 0 days 01:46:00   0 days 00:12:00   \n",
       "3 2013-01-01 08:54:00     507    EWR  FLL 0 days 03:18:00   0 days 00:19:00   \n",
       "4 2013-01-01 08:46:00      79    JFK  MCO 0 days 02:41:00 -1 days +23:52:00   \n",
       "5 2013-01-01 07:45:00     301    LGA  ORD 0 days 01:55:00   0 days 00:08:00   \n",
       "6 2013-01-01 09:17:00     194    JFK  LAX 0 days 03:26:00   0 days 00:07:00   \n",
       "7 2013-01-01 09:37:00    1124    EWR  SFO 0 days 03:25:00 -1 days +23:46:00   \n",
       "8 2013-01-01 07:06:00    1806    JFK  BOS 0 days 01:03:00 -1 days +23:56:00   \n",
       "9 2013-01-01 08:58:00     371    LGA  FLL 0 days 02:51:00 -1 days +23:53:00   \n",
       "\n",
       "   percent_delay  \n",
       "0      14.932127  \n",
       "1     -18.115942  \n",
       "2      11.320755  \n",
       "3       9.595960  \n",
       "4      -4.968944  \n",
       "5       6.956522  \n",
       "6       3.398058  \n",
       "7      -6.829268  \n",
       "8      -6.349206  \n",
       "9      -4.093567  "
      ]
     },
     "execution_count": 133,
     "metadata": {},
     "output_type": "execute_result"
    }
   ],
   "source": [
    "df['Delay'] = (df['arr_time'] - df['sched_arr_time'])\n",
    "df['percent_delay'] = (100 * df['Delay']) / df['air_time']\n",
    "df.head(10)"
   ]
  },
  {
   "cell_type": "markdown",
   "metadata": {},
   "source": [
    "Plotbox"
   ]
  },
  {
   "cell_type": "code",
   "execution_count": 134,
   "metadata": {},
   "outputs": [
    {
     "data": {
      "text/plain": [
       "<Axes: >"
      ]
     },
     "execution_count": 134,
     "metadata": {},
     "output_type": "execute_result"
    },
    {
     "data": {
      "image/png": "[encoded data removed]",
      "text/plain": [
       "<Figure size 640x480 with 1 Axes>"
      ]
     },
     "metadata": {},
     "output_type": "display_data"
    }
   ],
   "source": [
    "df[\"percent_delay\"].plot.box()"
   ]
  },
  {
   "cell_type": "markdown",
   "metadata": {},
   "source": [
    "The plotbox has many outliners"
   ]
  },
  {
   "cell_type": "code",
   "execution_count": 135,
   "metadata": {},
   "outputs": [
    {
     "data": {
      "text/plain": [
       "count    121373.000000\n",
       "mean        -29.735566\n",
       "std         206.591444\n",
       "min       -2919.565217\n",
       "25%         -14.838710\n",
       "50%          -4.864865\n",
       "75%           6.172840\n",
       "max         100.000000\n",
       "Name: percent_delay, dtype: float64"
      ]
     },
     "execution_count": 135,
     "metadata": {},
     "output_type": "execute_result"
    }
   ],
   "source": [
    "df[\"percent_delay\"].describe()"
   ]
  },
  {
   "cell_type": "code",
   "execution_count": 136,
   "metadata": {},
   "outputs": [],
   "source": [
    "minrow= df[\"percent_delay\"].argmin()"
   ]
  },
  {
   "cell_type": "code",
   "execution_count": 137,
   "metadata": {},
   "outputs": [
    {
     "data": {
      "text/plain": [
       "Unnamed: 0                      60788\n",
       "datetime_val      2013-04-01 20:40:00\n",
       "dep_time          2013-04-01 22:45:00\n",
       "arr_time          2013-04-01 23:31:00\n",
       "sched_arr_time    2013-04-02 21:54:00\n",
       "flight                           1178\n",
       "origin                            EWR\n",
       "dest                              BOS\n",
       "air_time              0 days 00:46:00\n",
       "Delay               -1 days +01:37:00\n",
       "percent_delay            -2919.565217\n",
       "Name: 59583, dtype: object"
      ]
     },
     "execution_count": 137,
     "metadata": {},
     "output_type": "execute_result"
    }
   ],
   "source": [
    "df.iloc[minrow]"
   ]
  },
  {
   "cell_type": "markdown",
   "metadata": {},
   "source": [
    "By analyzing the row with minimum value, we can conclude that these values most probably are a dataset error. We can try to fix the values, but lets just remove outliers.\n",
    "\n",
    "Finding outliers This is a huge dataset, and the hacky way to fix negative airtime, don't work 100%, so lets remove some outliers. Do a df[\"percent_delay\"].plot.box() to check outliers, and a df[\"percent_delay\"].describe() to see the min and max values To make it easy to do remove outliers later on, lets make it a function:"
   ]
  },
  {
   "cell_type": "code",
   "execution_count": 138,
   "metadata": {},
   "outputs": [],
   "source": [
    "from pandas.api.types import is_numeric_dtype\n",
    "def remove_outlier(df):\n",
    "    low = .05\n",
    "    high = .95\n",
    "    quant_df = df.quantile([low, high])\n",
    "    if is_numeric_dtype(df):\n",
    "        df = df[(df > quant_df.loc[low]) & (df < quant_df.loc[high])]\n",
    "    return df"
   ]
  },
  {
   "cell_type": "code",
   "execution_count": 139,
   "metadata": {},
   "outputs": [],
   "source": [
    "df[\"percent_delay\"] = remove_outlier(df[\"percent_delay\"])"
   ]
  },
  {
   "cell_type": "markdown",
   "metadata": {},
   "source": [
    "Present the plotbox again.."
   ]
  },
  {
   "cell_type": "code",
   "execution_count": 140,
   "metadata": {},
   "outputs": [
    {
     "data": {
      "text/plain": [
       "<Axes: >"
      ]
     },
     "execution_count": 140,
     "metadata": {},
     "output_type": "execute_result"
    },
    {
     "data": {
      "image/png": "[encoded data removed]",
      "text/plain": [
       "<Figure size 640x480 with 1 Axes>"
      ]
     },
     "metadata": {},
     "output_type": "display_data"
    }
   ],
   "source": [
    "df[\"percent_delay\"].plot.box()"
   ]
  },
  {
   "cell_type": "code",
   "execution_count": null,
   "metadata": {},
   "outputs": [],
   "source": [
    "End."
   ]
  }
 ],
 "metadata": {
  "kernelspec": {
   "display_name": "dave3625",
   "language": "python",
   "name": "python3"
  },
  "language_info": {
   "codemirror_mode": {
    "name": "ipython",
    "version": 3
   },
   "file_extension": ".py",
   "mimetype": "text/x-python",
   "name": "python",
   "nbconvert_exporter": "python",
   "pygments_lexer": "ipython3",
   "version": "3.8.17"
  }
 },
 "nbformat": 4,
 "nbformat_minor": 2
}
