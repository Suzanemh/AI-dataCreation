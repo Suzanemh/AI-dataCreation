{
 "cells": [
  {
   "cell_type": "markdown",
   "metadata": {},
   "source": [
    "FLIGHT TASK"
   ]
  },
  {
   "cell_type": "code",
   "execution_count": 12,
   "metadata": {},
   "outputs": [],
   "source": [
    "#Import\n",
    "%matplotlib inline\n",
    "import pandas as pd\n",
    "import numpy as np\n",
    "import matplotlib.pyplot as plt\n",
    "import datetime"
   ]
  },
  {
   "cell_type": "code",
   "execution_count": 13,
   "metadata": {},
   "outputs": [
    {
     "data": {
      "text/html": [
       "<div>\n",
       "<style scoped>\n",
       "    .dataframe tbody tr th:only-of-type {\n",
       "        vertical-align: middle;\n",
       "    }\n",
       "\n",
       "    .dataframe tbody tr th {\n",
       "        vertical-align: top;\n",
       "    }\n",
       "\n",
       "    .dataframe thead th {\n",
       "        text-align: right;\n",
       "    }\n",
       "</style>\n",
       "<table border=\"1\" class=\"dataframe\">\n",
       "  <thead>\n",
       "    <tr style=\"text-align: right;\">\n",
       "      <th></th>\n",
       "      <th>Unnamed: 0</th>\n",
       "      <th>datetime_val</th>\n",
       "      <th>dep_time</th>\n",
       "      <th>arr_time</th>\n",
       "      <th>sched_arr_time</th>\n",
       "      <th>flight</th>\n",
       "      <th>origin</th>\n",
       "      <th>dest</th>\n",
       "    </tr>\n",
       "  </thead>\n",
       "  <tbody>\n",
       "    <tr>\n",
       "      <th>0</th>\n",
       "      <td>0</td>\n",
       "      <td>2013-1-1 05:40:00</td>\n",
       "      <td>2013-1-1 05:42:00</td>\n",
       "      <td>2013-1-1 09:23:00</td>\n",
       "      <td>2013-1-1 08:50:00</td>\n",
       "      <td>1141</td>\n",
       "      <td>JFK</td>\n",
       "      <td>MIA</td>\n",
       "    </tr>\n",
       "    <tr>\n",
       "      <th>1</th>\n",
       "      <td>1</td>\n",
       "      <td>2013-1-1 06:00:00</td>\n",
       "      <td>2013-1-1 05:54:00</td>\n",
       "      <td>2013-1-1 08:12:00</td>\n",
       "      <td>2013-1-1 08:37:00</td>\n",
       "      <td>461</td>\n",
       "      <td>LGA</td>\n",
       "      <td>ATL</td>\n",
       "    </tr>\n",
       "    <tr>\n",
       "      <th>2</th>\n",
       "      <td>2</td>\n",
       "      <td>2013-1-1 05:58:00</td>\n",
       "      <td>2013-1-1 05:54:00</td>\n",
       "      <td>2013-1-1 07:40:00</td>\n",
       "      <td>2013-1-1 07:28:00</td>\n",
       "      <td>1696</td>\n",
       "      <td>EWR</td>\n",
       "      <td>ORD</td>\n",
       "    </tr>\n",
       "    <tr>\n",
       "      <th>3</th>\n",
       "      <td>3</td>\n",
       "      <td>2013-1-1 06:00:00</td>\n",
       "      <td>2013-1-1 05:55:00</td>\n",
       "      <td>2013-1-1 09:13:00</td>\n",
       "      <td>2013-1-1 08:54:00</td>\n",
       "      <td>507</td>\n",
       "      <td>EWR</td>\n",
       "      <td>FLL</td>\n",
       "    </tr>\n",
       "    <tr>\n",
       "      <th>4</th>\n",
       "      <td>4</td>\n",
       "      <td>2013-1-1 06:00:00</td>\n",
       "      <td>2013-1-1 05:57:00</td>\n",
       "      <td>2013-1-1 08:38:00</td>\n",
       "      <td>2013-1-1 08:46:00</td>\n",
       "      <td>79</td>\n",
       "      <td>JFK</td>\n",
       "      <td>MCO</td>\n",
       "    </tr>\n",
       "    <tr>\n",
       "      <th>...</th>\n",
       "      <td>...</td>\n",
       "      <td>...</td>\n",
       "      <td>...</td>\n",
       "      <td>...</td>\n",
       "      <td>...</td>\n",
       "      <td>...</td>\n",
       "      <td>...</td>\n",
       "      <td>...</td>\n",
       "    </tr>\n",
       "    <tr>\n",
       "      <th>121422</th>\n",
       "      <td>123979</td>\n",
       "      <td>2013-9-30 21:37:00</td>\n",
       "      <td>2013-9-30 21:47:00</td>\n",
       "      <td>2013-9-30 00:30:00</td>\n",
       "      <td>2013-9-30 00:27:00</td>\n",
       "      <td>1371</td>\n",
       "      <td>LGA</td>\n",
       "      <td>FLL</td>\n",
       "    </tr>\n",
       "    <tr>\n",
       "      <th>121423</th>\n",
       "      <td>123980</td>\n",
       "      <td>2013-9-30 21:56:00</td>\n",
       "      <td>2013-9-30 21:49:00</td>\n",
       "      <td>2013-9-30 22:45:00</td>\n",
       "      <td>2013-9-30 23:08:00</td>\n",
       "      <td>523</td>\n",
       "      <td>EWR</td>\n",
       "      <td>BOS</td>\n",
       "    </tr>\n",
       "    <tr>\n",
       "      <th>121424</th>\n",
       "      <td>123981</td>\n",
       "      <td>2013-9-30 21:13:00</td>\n",
       "      <td>2013-9-30 22:33:00</td>\n",
       "      <td>2013-9-30 01:12:00</td>\n",
       "      <td>2013-9-30 00:30:00</td>\n",
       "      <td>471</td>\n",
       "      <td>EWR</td>\n",
       "      <td>SFO</td>\n",
       "    </tr>\n",
       "    <tr>\n",
       "      <th>121425</th>\n",
       "      <td>123982</td>\n",
       "      <td>2013-9-30 20:01:00</td>\n",
       "      <td>2013-9-30 22:35:00</td>\n",
       "      <td>2013-9-30 00:59:00</td>\n",
       "      <td>2013-9-30 22:49:00</td>\n",
       "      <td>1083</td>\n",
       "      <td>JFK</td>\n",
       "      <td>MCO</td>\n",
       "    </tr>\n",
       "    <tr>\n",
       "      <th>121426</th>\n",
       "      <td>123983</td>\n",
       "      <td>2013-9-30 22:55:00</td>\n",
       "      <td>2013-9-30 23:07:00</td>\n",
       "      <td>2013-9-30 23:59:00</td>\n",
       "      <td>2013-9-30 23:58:00</td>\n",
       "      <td>718</td>\n",
       "      <td>JFK</td>\n",
       "      <td>BOS</td>\n",
       "    </tr>\n",
       "  </tbody>\n",
       "</table>\n",
       "<p>121427 rows × 8 columns</p>\n",
       "</div>"
      ],
      "text/plain": [
       "        Unnamed: 0        datetime_val            dep_time  \\\n",
       "0                0   2013-1-1 05:40:00   2013-1-1 05:42:00   \n",
       "1                1   2013-1-1 06:00:00   2013-1-1 05:54:00   \n",
       "2                2   2013-1-1 05:58:00   2013-1-1 05:54:00   \n",
       "3                3   2013-1-1 06:00:00   2013-1-1 05:55:00   \n",
       "4                4   2013-1-1 06:00:00   2013-1-1 05:57:00   \n",
       "...            ...                 ...                 ...   \n",
       "121422      123979  2013-9-30 21:37:00  2013-9-30 21:47:00   \n",
       "121423      123980  2013-9-30 21:56:00  2013-9-30 21:49:00   \n",
       "121424      123981  2013-9-30 21:13:00  2013-9-30 22:33:00   \n",
       "121425      123982  2013-9-30 20:01:00  2013-9-30 22:35:00   \n",
       "121426      123983  2013-9-30 22:55:00  2013-9-30 23:07:00   \n",
       "\n",
       "                  arr_time      sched_arr_time  flight origin dest  \n",
       "0        2013-1-1 09:23:00   2013-1-1 08:50:00    1141    JFK  MIA  \n",
       "1        2013-1-1 08:12:00   2013-1-1 08:37:00     461    LGA  ATL  \n",
       "2        2013-1-1 07:40:00   2013-1-1 07:28:00    1696    EWR  ORD  \n",
       "3        2013-1-1 09:13:00   2013-1-1 08:54:00     507    EWR  FLL  \n",
       "4        2013-1-1 08:38:00   2013-1-1 08:46:00      79    JFK  MCO  \n",
       "...                    ...                 ...     ...    ...  ...  \n",
       "121422  2013-9-30 00:30:00  2013-9-30 00:27:00    1371    LGA  FLL  \n",
       "121423  2013-9-30 22:45:00  2013-9-30 23:08:00     523    EWR  BOS  \n",
       "121424  2013-9-30 01:12:00  2013-9-30 00:30:00     471    EWR  SFO  \n",
       "121425  2013-9-30 00:59:00  2013-9-30 22:49:00    1083    JFK  MCO  \n",
       "121426  2013-9-30 23:59:00  2013-9-30 23:58:00     718    JFK  BOS  \n",
       "\n",
       "[121427 rows x 8 columns]"
      ]
     },
     "execution_count": 13,
     "metadata": {},
     "output_type": "execute_result"
    }
   ],
   "source": [
    "#import the flight.csv\n",
    "df = pd.read_csv(\"flight.csv\")\n",
    "\n",
    "df"
   ]
  },
  {
   "cell_type": "code",
   "execution_count": 14,
   "metadata": {},
   "outputs": [
    {
     "name": "stdout",
     "output_type": "stream",
     "text": [
      "<class 'pandas.core.frame.DataFrame'>\n",
      "RangeIndex: 121427 entries, 0 to 121426\n",
      "Data columns (total 8 columns):\n",
      " #   Column          Non-Null Count   Dtype \n",
      "---  ------          --------------   ----- \n",
      " 0   Unnamed: 0      121427 non-null  int64 \n",
      " 1   datetime_val    121427 non-null  object\n",
      " 2   dep_time        121427 non-null  object\n",
      " 3   arr_time        121427 non-null  object\n",
      " 4   sched_arr_time  121427 non-null  object\n",
      " 5   flight          121427 non-null  int64 \n",
      " 6   origin          121427 non-null  object\n",
      " 7   dest            121427 non-null  object\n",
      "dtypes: int64(2), object(6)\n",
      "memory usage: 7.4+ MB\n"
     ]
    }
   ],
   "source": [
    "df.info()"
   ]
  },
  {
   "cell_type": "markdown",
   "metadata": {},
   "source": [
    "Convert the columns below to datetime\n",
    "\n",
    "To convert multiple columns to datetime type within a DataFrame, you can use the pd.to_datetime function for each of the columns you want to convert. Here's how you can do it for columns datetime_val, dep_time, arr_time, and sched_arr_time:"
   ]
  },
  {
   "cell_type": "code",
   "execution_count": 15,
   "metadata": {},
   "outputs": [
    {
     "ename": "ValueError",
     "evalue": "time data \"2013-12-29 24:00:00\" doesn't match format \"%Y-%m-%d %H:%M:%S\", at position 39807. You might want to try:\n    - passing `format` if your strings have a consistent format;\n    - passing `format='ISO8601'` if your strings are all ISO8601 but not necessarily in exactly the same format;\n    - passing `format='mixed'`, and the format will be inferred for each element individually. You might want to use `dayfirst` alongside this.",
     "output_type": "error",
     "traceback": [
      "\u001b[0;31m---------------------------------------------------------------------------\u001b[0m",
      "\u001b[0;31mValueError\u001b[0m                                Traceback (most recent call last)",
      "\u001b[1;32m/Users/suzane/Documents/AI_dataCreation/AI-dataCreation/flight.ipynb Cell 6\u001b[0m line \u001b[0;36m2\n\u001b[1;32m      <a href='vscode-notebook-cell:/Users/suzane/Documents/AI_dataCreation/AI-dataCreation/flight.ipynb#W6sZmlsZQ%3D%3D?line=0'>1</a>\u001b[0m df[\u001b[39m'\u001b[39m\u001b[39mdatetime_val\u001b[39m\u001b[39m'\u001b[39m] \u001b[39m=\u001b[39m pd\u001b[39m.\u001b[39mto_datetime(df[\u001b[39m'\u001b[39m\u001b[39mdatetime_val\u001b[39m\u001b[39m'\u001b[39m])\n\u001b[0;32m----> <a href='vscode-notebook-cell:/Users/suzane/Documents/AI_dataCreation/AI-dataCreation/flight.ipynb#W6sZmlsZQ%3D%3D?line=1'>2</a>\u001b[0m df[\u001b[39m'\u001b[39m\u001b[39mdep_time\u001b[39m\u001b[39m'\u001b[39m] \u001b[39m=\u001b[39m pd\u001b[39m.\u001b[39;49mto_datetime(df[\u001b[39m'\u001b[39;49m\u001b[39mdep_time\u001b[39;49m\u001b[39m'\u001b[39;49m])\n\u001b[1;32m      <a href='vscode-notebook-cell:/Users/suzane/Documents/AI_dataCreation/AI-dataCreation/flight.ipynb#W6sZmlsZQ%3D%3D?line=2'>3</a>\u001b[0m df[\u001b[39m'\u001b[39m\u001b[39marr_time\u001b[39m\u001b[39m'\u001b[39m] \u001b[39m=\u001b[39m pd\u001b[39m.\u001b[39mto_datetime(df[\u001b[39m'\u001b[39m\u001b[39marr_time\u001b[39m\u001b[39m'\u001b[39m])\n\u001b[1;32m      <a href='vscode-notebook-cell:/Users/suzane/Documents/AI_dataCreation/AI-dataCreation/flight.ipynb#W6sZmlsZQ%3D%3D?line=3'>4</a>\u001b[0m df[\u001b[39m'\u001b[39m\u001b[39msched_arr_time\u001b[39m\u001b[39m'\u001b[39m] \u001b[39m=\u001b[39m pd\u001b[39m.\u001b[39mto_datetime(df[\u001b[39m'\u001b[39m\u001b[39msched_arr_time\u001b[39m\u001b[39m'\u001b[39m])\n",
      "File \u001b[0;32m~/anaconda3/envs/dave3625/lib/python3.8/site-packages/pandas/core/tools/datetimes.py:1050\u001b[0m, in \u001b[0;36mto_datetime\u001b[0;34m(arg, errors, dayfirst, yearfirst, utc, format, exact, unit, infer_datetime_format, origin, cache)\u001b[0m\n\u001b[1;32m   1048\u001b[0m         result \u001b[39m=\u001b[39m arg\u001b[39m.\u001b[39mmap(cache_array)\n\u001b[1;32m   1049\u001b[0m     \u001b[39melse\u001b[39;00m:\n\u001b[0;32m-> 1050\u001b[0m         values \u001b[39m=\u001b[39m convert_listlike(arg\u001b[39m.\u001b[39;49m_values, \u001b[39mformat\u001b[39;49m)\n\u001b[1;32m   1051\u001b[0m         result \u001b[39m=\u001b[39m arg\u001b[39m.\u001b[39m_constructor(values, index\u001b[39m=\u001b[39marg\u001b[39m.\u001b[39mindex, name\u001b[39m=\u001b[39marg\u001b[39m.\u001b[39mname)\n\u001b[1;32m   1052\u001b[0m \u001b[39melif\u001b[39;00m \u001b[39misinstance\u001b[39m(arg, (ABCDataFrame, abc\u001b[39m.\u001b[39mMutableMapping)):\n",
      "File \u001b[0;32m~/anaconda3/envs/dave3625/lib/python3.8/site-packages/pandas/core/tools/datetimes.py:453\u001b[0m, in \u001b[0;36m_convert_listlike_datetimes\u001b[0;34m(arg, format, name, utc, unit, errors, dayfirst, yearfirst, exact)\u001b[0m\n\u001b[1;32m    451\u001b[0m \u001b[39m# `format` could be inferred, or user didn't ask for mixed-format parsing.\u001b[39;00m\n\u001b[1;32m    452\u001b[0m \u001b[39mif\u001b[39;00m \u001b[39mformat\u001b[39m \u001b[39mis\u001b[39;00m \u001b[39mnot\u001b[39;00m \u001b[39mNone\u001b[39;00m \u001b[39mand\u001b[39;00m \u001b[39mformat\u001b[39m \u001b[39m!=\u001b[39m \u001b[39m\"\u001b[39m\u001b[39mmixed\u001b[39m\u001b[39m\"\u001b[39m:\n\u001b[0;32m--> 453\u001b[0m     \u001b[39mreturn\u001b[39;00m _array_strptime_with_fallback(arg, name, utc, \u001b[39mformat\u001b[39;49m, exact, errors)\n\u001b[1;32m    455\u001b[0m result, tz_parsed \u001b[39m=\u001b[39m objects_to_datetime64ns(\n\u001b[1;32m    456\u001b[0m     arg,\n\u001b[1;32m    457\u001b[0m     dayfirst\u001b[39m=\u001b[39mdayfirst,\n\u001b[0;32m   (...)\u001b[0m\n\u001b[1;32m    461\u001b[0m     allow_object\u001b[39m=\u001b[39m\u001b[39mTrue\u001b[39;00m,\n\u001b[1;32m    462\u001b[0m )\n\u001b[1;32m    464\u001b[0m \u001b[39mif\u001b[39;00m tz_parsed \u001b[39mis\u001b[39;00m \u001b[39mnot\u001b[39;00m \u001b[39mNone\u001b[39;00m:\n\u001b[1;32m    465\u001b[0m     \u001b[39m# We can take a shortcut since the datetime64 numpy array\u001b[39;00m\n\u001b[1;32m    466\u001b[0m     \u001b[39m# is in UTC\u001b[39;00m\n",
      "File \u001b[0;32m~/anaconda3/envs/dave3625/lib/python3.8/site-packages/pandas/core/tools/datetimes.py:484\u001b[0m, in \u001b[0;36m_array_strptime_with_fallback\u001b[0;34m(arg, name, utc, fmt, exact, errors)\u001b[0m\n\u001b[1;32m    473\u001b[0m \u001b[39mdef\u001b[39;00m \u001b[39m_array_strptime_with_fallback\u001b[39m(\n\u001b[1;32m    474\u001b[0m     arg,\n\u001b[1;32m    475\u001b[0m     name,\n\u001b[0;32m   (...)\u001b[0m\n\u001b[1;32m    479\u001b[0m     errors: \u001b[39mstr\u001b[39m,\n\u001b[1;32m    480\u001b[0m ) \u001b[39m-\u001b[39m\u001b[39m>\u001b[39m Index:\n\u001b[1;32m    481\u001b[0m \u001b[39m    \u001b[39m\u001b[39m\"\"\"\u001b[39;00m\n\u001b[1;32m    482\u001b[0m \u001b[39m    Call array_strptime, with fallback behavior depending on 'errors'.\u001b[39;00m\n\u001b[1;32m    483\u001b[0m \u001b[39m    \"\"\"\u001b[39;00m\n\u001b[0;32m--> 484\u001b[0m     result, timezones \u001b[39m=\u001b[39m array_strptime(arg, fmt, exact\u001b[39m=\u001b[39;49mexact, errors\u001b[39m=\u001b[39;49merrors, utc\u001b[39m=\u001b[39;49mutc)\n\u001b[1;32m    485\u001b[0m     \u001b[39mif\u001b[39;00m \u001b[39many\u001b[39m(tz \u001b[39mis\u001b[39;00m \u001b[39mnot\u001b[39;00m \u001b[39mNone\u001b[39;00m \u001b[39mfor\u001b[39;00m tz \u001b[39min\u001b[39;00m timezones):\n\u001b[1;32m    486\u001b[0m         \u001b[39mreturn\u001b[39;00m _return_parsed_timezone_results(result, timezones, utc, name)\n",
      "File \u001b[0;32m~/anaconda3/envs/dave3625/lib/python3.8/site-packages/pandas/_libs/tslibs/strptime.pyx:530\u001b[0m, in \u001b[0;36mpandas._libs.tslibs.strptime.array_strptime\u001b[0;34m()\u001b[0m\n",
      "File \u001b[0;32m~/anaconda3/envs/dave3625/lib/python3.8/site-packages/pandas/_libs/tslibs/strptime.pyx:351\u001b[0m, in \u001b[0;36mpandas._libs.tslibs.strptime.array_strptime\u001b[0;34m()\u001b[0m\n",
      "\u001b[0;31mValueError\u001b[0m: time data \"2013-12-29 24:00:00\" doesn't match format \"%Y-%m-%d %H:%M:%S\", at position 39807. You might want to try:\n    - passing `format` if your strings have a consistent format;\n    - passing `format='ISO8601'` if your strings are all ISO8601 but not necessarily in exactly the same format;\n    - passing `format='mixed'`, and the format will be inferred for each element individually. You might want to use `dayfirst` alongside this."
     ]
    }
   ],
   "source": [
    "df['datetime_val'] = pd.to_datetime(df['datetime_val'] , errors=\"coerce\")\n",
    "df['dep_time'] = pd.to_datetime(df['dep_time'] , errors=\"coerce\")\n",
    "df['arr_time'] = pd.to_datetime(df['arr_time'] , errors=\"coerce\")\n",
    "df['sched_arr_time'] = pd.to_datetime(df['sched_arr_time'], errors=\"coerce\")"
   ]
  },
  {
   "cell_type": "markdown",
   "metadata": {},
   "source": [
    "Checking the types again"
   ]
  },
  {
   "cell_type": "code",
   "execution_count": null,
   "metadata": {},
   "outputs": [],
   "source": [
    "df.info()"
   ]
  }
 ],
 "metadata": {
  "kernelspec": {
   "display_name": "dave3625",
   "language": "python",
   "name": "python3"
  },
  "language_info": {
   "codemirror_mode": {
    "name": "ipython",
    "version": 3
   },
   "file_extension": ".py",
   "mimetype": "text/x-python",
   "name": "python",
   "nbconvert_exporter": "python",
   "pygments_lexer": "ipython3",
   "version": "3.8.17"
  }
 },
 "nbformat": 4,
 "nbformat_minor": 2
}
